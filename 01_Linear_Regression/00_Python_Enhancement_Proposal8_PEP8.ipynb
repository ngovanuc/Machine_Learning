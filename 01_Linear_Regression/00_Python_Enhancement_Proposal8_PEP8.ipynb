{
 "cells": [
  {
   "cell_type": "code",
   "execution_count": null,
   "metadata": {},
   "outputs": [],
   "source": [
    "\"\"\"\n",
    "Author: Ngo Van Uc\n",
    "Date: 30/10/2024\n",
    "Contact: ngovanuc.1508@gmail.com\n",
    "\"\"\""
   ]
  },
  {
   "cell_type": "markdown",
   "metadata": {},
   "source": [
    "PEP 8 (Python Enhancement Proposal 8) là tài liệu cung cấp các hướng dẫn về phong cách mã hóa cho Python, giúp đảm bảo mã nguồn dễ đọc và nhất quán. Dưới đây là danh sách tóm tắt các hướng dẫn chính của PEP 8:\n",
    "\n",
    "### 1. **Quy tắc về khoảng trắng (Whitespace)**\n",
    "   - **Dùng dấu cách** thay vì tab để thụt lề. (Khuyến nghị dùng 4 dấu cách cho mỗi cấp độ thụt lề).\n",
    "   - **Giới hạn độ dài dòng**: Tối đa 79 ký tự cho mã nguồn, 72 ký tự cho các chuỗi tài liệu (docstring).\n",
    "   - **Khoảng trắng xung quanh toán tử**: Dùng khoảng trắng quanh các toán tử (`=`, `+`, `-`, etc.) và sau dấu phẩy trong danh sách tham số.\n",
    "   - **Khoảng trắng sau dấu `#`** trong các bình luận.\n",
    "   - **Không dùng khoảng trắng** bên trong dấu ngoặc đơn, dấu ngoặc vuông, hoặc dấu ngoặc nhọn.\n",
    "\n",
    "### 2. **Quy tắc về tên biến và hàm**\n",
    "   - **Tên biến và hàm**: Dùng `snake_case`.\n",
    "   - **Tên lớp**: Dùng `PascalCase` (ví dụ: `MyClass`).\n",
    "   - **Tên hằng**: Dùng `UPPER_CASE`.\n",
    "\n",
    "### 3. **Nhập khẩu (Imports)**\n",
    "   - **Nhập mỗi mô-đun trên một dòng riêng**.\n",
    "   - **Nhập khẩu mô-đun chuẩn trước**, sau đó đến mô-đun của bên thứ ba, cuối cùng là mô-đun tự định nghĩa. \n",
    "   - **Không dùng `import *`**, hãy nhập rõ ràng các thành phần cần thiết.\n",
    "\n",
    "### 4. **Chuỗi tài liệu (Docstrings)**\n",
    "   - **Mỗi hàm và lớp** nên có docstring để giải thích chức năng của nó.\n",
    "   - **Docstrings của hàm**: Mô tả ngắn gọn mục đích của hàm và các tham số, giá trị trả về.\n",
    "\n",
    "### 5. **Quy tắc về lệnh điều khiển dòng lệnh**\n",
    "   - **Sử dụng dấu ngoặc đơn** để chia nhỏ các câu lệnh dài thay vì sử dụng dấu gạch chéo ngược (`\\`).\n",
    "   - **Hàm và lớp**: Thêm hai dòng trống trước mỗi định nghĩa hàm hoặc lớp.\n",
    "   - **Phương thức trong lớp**: Thêm một dòng trống giữa các phương thức của lớp.\n",
    "\n",
    "### 6. **Bình luận (Comments)**\n",
    "   - **Bình luận cần rõ ràng và ngắn gọn**.\n",
    "   - **Sử dụng bình luận dòng đơn `#`** để giải thích mã.\n",
    "   - **Sử dụng bình luận khối** để giải thích đoạn mã phức tạp hơn.\n",
    "\n",
    "### 7. **Tổ chức code**\n",
    "   - **Sắp xếp thứ tự**: Lớp, hàm công khai, hàm riêng tư.\n",
    "   - **Sử dụng dấu gạch dưới trước tên hàm hoặc biến** để chỉ rõ rằng nó là riêng tư (ví dụ: `_private_method`).\n",
    "\n",
    "### 8. **Các quy tắc khác**\n",
    "   - **Không so sánh trực tiếp với `None`**: Sử dụng `is` hoặc `is not`.\n",
    "   - **Sử dụng `isinstance()`** để kiểm tra kiểu dữ liệu.\n",
    "   - **Tránh sử dụng các hằng số ma thuật**: Thay vào đó, định nghĩa chúng như là các biến có tên rõ ràng.\n",
    "\n",
    "### 9. **Cấu trúc câu lệnh điều kiện**\n",
    "   - **Tránh câu lệnh điều kiện dài**: Sử dụng các dòng riêng lẻ để tăng độ rõ ràng.\n",
    "   - **Tránh sử dụng câu lệnh điều kiện lồng nhau**: Sử dụng câu lệnh `elif` và `else` khi có thể.\n",
    "\n",
    "### 10. **Lập trình hướng đối tượng (OOP)**\n",
    "   - **Phương thức lớp**: Bắt đầu với `cls` cho tham số đầu tiên.\n",
    "   - **Phương thức thực thể**: Bắt đầu với `self` cho tham số đầu tiên.\n",
    "\n",
    "PEP 8 còn nhiều chi tiết nhỏ hơn để đảm bảo mã nguồn Python dễ đọc và duy trì. Đây chỉ là một tóm tắt chính, bạn có thể tham khảo đầy đủ tài liệu PEP 8 để biết thêm chi tiết."
   ]
  }
 ],
 "metadata": {
  "kernelspec": {
   "display_name": ".venv",
   "language": "python",
   "name": "python3"
  },
  "language_info": {
   "name": "python",
   "version": "3.10.6"
  }
 },
 "nbformat": 4,
 "nbformat_minor": 2
}
