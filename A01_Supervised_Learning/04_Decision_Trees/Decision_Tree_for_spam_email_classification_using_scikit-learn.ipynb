{
 "cells": [
  {
   "cell_type": "markdown",
   "id": "6d4ed5a8",
   "metadata": {},
   "source": [
    "# Import"
   ]
  },
  {
   "cell_type": "code",
   "execution_count": 76,
   "id": "cbd4748c",
   "metadata": {},
   "outputs": [],
   "source": [
    "import os\n",
    "import time\n",
    "\n",
    "import pandas as pd\n",
    "import numpy as np\n",
    "\n",
    "from sklearn.feature_extraction.text import CountVectorizer\n",
    "from sklearn.preprocessing import StandardScaler\n",
    "from sklearn.model_selection import train_test_split\n",
    "from sklearn import tree\n",
    "from sklearn.tree import DecisionTreeClassifier\n",
    "from sklearn.metrics import accuracy_score, classification_report, confusion_matrix\n",
    "from sklearn.metrics import precision_score, recall_score, f1_score\n"
   ]
  },
  {
   "cell_type": "markdown",
   "id": "948b9614",
   "metadata": {},
   "source": [
    "# Load dataset"
   ]
  },
  {
   "cell_type": "code",
   "execution_count": 53,
   "id": "adfa143b",
   "metadata": {},
   "outputs": [
    {
     "data": {
      "text/html": [
       "<div>\n",
       "<style scoped>\n",
       "    .dataframe tbody tr th:only-of-type {\n",
       "        vertical-align: middle;\n",
       "    }\n",
       "\n",
       "    .dataframe tbody tr th {\n",
       "        vertical-align: top;\n",
       "    }\n",
       "\n",
       "    .dataframe thead th {\n",
       "        text-align: right;\n",
       "    }\n",
       "</style>\n",
       "<table border=\"1\" class=\"dataframe\">\n",
       "  <thead>\n",
       "    <tr style=\"text-align: right;\">\n",
       "      <th></th>\n",
       "      <th>Category</th>\n",
       "      <th>Message</th>\n",
       "    </tr>\n",
       "  </thead>\n",
       "  <tbody>\n",
       "    <tr>\n",
       "      <th>0</th>\n",
       "      <td>ham</td>\n",
       "      <td>Go until jurong point, crazy.. Available only ...</td>\n",
       "    </tr>\n",
       "    <tr>\n",
       "      <th>1</th>\n",
       "      <td>ham</td>\n",
       "      <td>Ok lar... Joking wif u oni...</td>\n",
       "    </tr>\n",
       "    <tr>\n",
       "      <th>2</th>\n",
       "      <td>spam</td>\n",
       "      <td>Free entry in 2 a wkly comp to win FA Cup fina...</td>\n",
       "    </tr>\n",
       "    <tr>\n",
       "      <th>3</th>\n",
       "      <td>ham</td>\n",
       "      <td>U dun say so early hor... U c already then say...</td>\n",
       "    </tr>\n",
       "    <tr>\n",
       "      <th>4</th>\n",
       "      <td>ham</td>\n",
       "      <td>Nah I don't think he goes to usf, he lives aro...</td>\n",
       "    </tr>\n",
       "  </tbody>\n",
       "</table>\n",
       "</div>"
      ],
      "text/plain": [
       "  Category                                            Message\n",
       "0      ham  Go until jurong point, crazy.. Available only ...\n",
       "1      ham                      Ok lar... Joking wif u oni...\n",
       "2     spam  Free entry in 2 a wkly comp to win FA Cup fina...\n",
       "3      ham  U dun say so early hor... U c already then say...\n",
       "4      ham  Nah I don't think he goes to usf, he lives aro..."
      ]
     },
     "execution_count": 53,
     "metadata": {},
     "output_type": "execute_result"
    }
   ],
   "source": [
    "dataset_path = \"E:/LEARNING/Machine_Learning/Datasets/spam_email_dataset/email.csv\"\n",
    "df = pd.read_csv(dataset_path)\n",
    "df.head()"
   ]
  },
  {
   "cell_type": "code",
   "execution_count": 54,
   "id": "7a74a1da",
   "metadata": {},
   "outputs": [
    {
     "data": {
      "text/plain": [
       "(5573, 2)"
      ]
     },
     "execution_count": 54,
     "metadata": {},
     "output_type": "execute_result"
    }
   ],
   "source": [
    "df.shape"
   ]
  },
  {
   "cell_type": "markdown",
   "id": "eb02686d",
   "metadata": {},
   "source": [
    "# Data preprocessing"
   ]
  },
  {
   "cell_type": "code",
   "execution_count": 55,
   "id": "9e65f801",
   "metadata": {},
   "outputs": [
    {
     "name": "stdout",
     "output_type": "stream",
     "text": [
      "Number of NaN values in Message: 0\n",
      "Number of NaN values in Category: 0\n",
      "(5573, 2)\n"
     ]
    }
   ],
   "source": [
    "# Check NaN values\n",
    "print(f\"Number of NaN values in Message: {df['Message'].isna().sum()}\")\n",
    "print(f\"Number of NaN values in Category: {df['Category'].isna().sum()}\")\n",
    "\n",
    "# Remove NaN values\n",
    "df = df.dropna()\n",
    "print(df.shape)"
   ]
  },
  {
   "cell_type": "code",
   "execution_count": 56,
   "id": "77772f62",
   "metadata": {},
   "outputs": [
    {
     "name": "stdout",
     "output_type": "stream",
     "text": [
      "['ham' 'spam' '{\"mode\":\"full\"']\n"
     ]
    }
   ],
   "source": [
    "print(df[\"Category\"].unique())"
   ]
  },
  {
   "cell_type": "code",
   "execution_count": 61,
   "id": "cfdcfa1e",
   "metadata": {},
   "outputs": [
    {
     "name": "stdout",
     "output_type": "stream",
     "text": [
      "{\"mode\":\"full\"\n"
     ]
    }
   ],
   "source": [
    "print(df.iloc[len(df)-1, 0])\n",
    "# Drop last row of df\n",
    "df = df.drop(df.index[len(df)-1])"
   ]
  },
  {
   "cell_type": "code",
   "execution_count": 62,
   "id": "3b32b88a",
   "metadata": {},
   "outputs": [
    {
     "data": {
      "text/html": [
       "<div>\n",
       "<style scoped>\n",
       "    .dataframe tbody tr th:only-of-type {\n",
       "        vertical-align: middle;\n",
       "    }\n",
       "\n",
       "    .dataframe tbody tr th {\n",
       "        vertical-align: top;\n",
       "    }\n",
       "\n",
       "    .dataframe thead th {\n",
       "        text-align: right;\n",
       "    }\n",
       "</style>\n",
       "<table border=\"1\" class=\"dataframe\">\n",
       "  <thead>\n",
       "    <tr style=\"text-align: right;\">\n",
       "      <th></th>\n",
       "      <th>Category</th>\n",
       "      <th>Message</th>\n",
       "    </tr>\n",
       "  </thead>\n",
       "  <tbody>\n",
       "    <tr>\n",
       "      <th>0</th>\n",
       "      <td>ham</td>\n",
       "      <td>Go until jurong point, crazy.. Available only ...</td>\n",
       "    </tr>\n",
       "    <tr>\n",
       "      <th>1</th>\n",
       "      <td>ham</td>\n",
       "      <td>Ok lar... Joking wif u oni...</td>\n",
       "    </tr>\n",
       "    <tr>\n",
       "      <th>2</th>\n",
       "      <td>spam</td>\n",
       "      <td>Free entry in 2 a wkly comp to win FA Cup fina...</td>\n",
       "    </tr>\n",
       "    <tr>\n",
       "      <th>3</th>\n",
       "      <td>ham</td>\n",
       "      <td>U dun say so early hor... U c already then say...</td>\n",
       "    </tr>\n",
       "    <tr>\n",
       "      <th>4</th>\n",
       "      <td>ham</td>\n",
       "      <td>Nah I don't think he goes to usf, he lives aro...</td>\n",
       "    </tr>\n",
       "  </tbody>\n",
       "</table>\n",
       "</div>"
      ],
      "text/plain": [
       "  Category                                            Message\n",
       "0      ham  Go until jurong point, crazy.. Available only ...\n",
       "1      ham                      Ok lar... Joking wif u oni...\n",
       "2     spam  Free entry in 2 a wkly comp to win FA Cup fina...\n",
       "3      ham  U dun say so early hor... U c already then say...\n",
       "4      ham  Nah I don't think he goes to usf, he lives aro..."
      ]
     },
     "execution_count": 62,
     "metadata": {},
     "output_type": "execute_result"
    }
   ],
   "source": [
    "df.head()"
   ]
  },
  {
   "cell_type": "code",
   "execution_count": 63,
   "id": "c55ee9df",
   "metadata": {},
   "outputs": [
    {
     "data": {
      "text/html": [
       "<div>\n",
       "<style scoped>\n",
       "    .dataframe tbody tr th:only-of-type {\n",
       "        vertical-align: middle;\n",
       "    }\n",
       "\n",
       "    .dataframe tbody tr th {\n",
       "        vertical-align: top;\n",
       "    }\n",
       "\n",
       "    .dataframe thead th {\n",
       "        text-align: right;\n",
       "    }\n",
       "</style>\n",
       "<table border=\"1\" class=\"dataframe\">\n",
       "  <thead>\n",
       "    <tr style=\"text-align: right;\">\n",
       "      <th></th>\n",
       "      <th>Category</th>\n",
       "      <th>Message</th>\n",
       "    </tr>\n",
       "  </thead>\n",
       "  <tbody>\n",
       "    <tr>\n",
       "      <th>0</th>\n",
       "      <td>0</td>\n",
       "      <td>Go until jurong point, crazy.. Available only ...</td>\n",
       "    </tr>\n",
       "    <tr>\n",
       "      <th>1</th>\n",
       "      <td>0</td>\n",
       "      <td>Ok lar... Joking wif u oni...</td>\n",
       "    </tr>\n",
       "    <tr>\n",
       "      <th>2</th>\n",
       "      <td>1</td>\n",
       "      <td>Free entry in 2 a wkly comp to win FA Cup fina...</td>\n",
       "    </tr>\n",
       "    <tr>\n",
       "      <th>3</th>\n",
       "      <td>0</td>\n",
       "      <td>U dun say so early hor... U c already then say...</td>\n",
       "    </tr>\n",
       "    <tr>\n",
       "      <th>4</th>\n",
       "      <td>0</td>\n",
       "      <td>Nah I don't think he goes to usf, he lives aro...</td>\n",
       "    </tr>\n",
       "  </tbody>\n",
       "</table>\n",
       "</div>"
      ],
      "text/plain": [
       "   Category                                            Message\n",
       "0         0  Go until jurong point, crazy.. Available only ...\n",
       "1         0                      Ok lar... Joking wif u oni...\n",
       "2         1  Free entry in 2 a wkly comp to win FA Cup fina...\n",
       "3         0  U dun say so early hor... U c already then say...\n",
       "4         0  Nah I don't think he goes to usf, he lives aro..."
      ]
     },
     "execution_count": 63,
     "metadata": {},
     "output_type": "execute_result"
    }
   ],
   "source": [
    "# Encode for \"Category\" column, spam = 1, ham = 0\n",
    "df[\"Category\"] = df[\"Category\"].map({\"spam\": 1, \"ham\": 0})\n",
    "df.head()"
   ]
  },
  {
   "cell_type": "code",
   "execution_count": 64,
   "id": "0ddd3dc0",
   "metadata": {},
   "outputs": [
    {
     "name": "stdout",
     "output_type": "stream",
     "text": [
      "[0 1]\n"
     ]
    }
   ],
   "source": [
    "print(df[\"Category\"].unique())"
   ]
  },
  {
   "cell_type": "code",
   "execution_count": 65,
   "id": "4024bfef",
   "metadata": {},
   "outputs": [
    {
     "name": "stdout",
     "output_type": "stream",
     "text": [
      "Shape of X: (5572, 8709)\n",
      "Number of features: 8709\n",
      "(1, 8709)\n"
     ]
    }
   ],
   "source": [
    "# We need to convert text to number for \"Message\"\n",
    "vectorizer = CountVectorizer()\n",
    "X = vectorizer.fit_transform(df['Message'])\n",
    "print(f\"Shape of X: {X.shape}\")\n",
    "print(f\"Number of features: {len(vectorizer.get_feature_names_out())}\")\n",
    "print(X[0].shape)"
   ]
  },
  {
   "cell_type": "code",
   "execution_count": 66,
   "id": "1cb55473",
   "metadata": {},
   "outputs": [
    {
     "data": {
      "text/plain": [
       "0    0\n",
       "1    0\n",
       "2    1\n",
       "3    0\n",
       "4    0\n",
       "Name: Category, dtype: int64"
      ]
     },
     "execution_count": 66,
     "metadata": {},
     "output_type": "execute_result"
    }
   ],
   "source": [
    "y = df[\"Category\"]\n",
    "y.head()"
   ]
  },
  {
   "cell_type": "code",
   "execution_count": 68,
   "id": "80b4b118",
   "metadata": {},
   "outputs": [],
   "source": [
    "# Split dataset into trainset and testset\n",
    "X_train, X_test, y_train, y_test = train_test_split(X, y, test_size=0.2, random_state=42)"
   ]
  },
  {
   "cell_type": "markdown",
   "id": "fc7f88b8",
   "metadata": {},
   "source": [
    "# Model"
   ]
  },
  {
   "cell_type": "code",
   "execution_count": null,
   "id": "59277f10",
   "metadata": {},
   "outputs": [],
   "source": [
    "# Training model\n",
    "model = DecisionTreeClassifier(random_state=42)\n",
    "clf = model.fit(X_train, y_train)"
   ]
  },
  {
   "cell_type": "code",
   "execution_count": null,
   "id": "5b45fcd7",
   "metadata": {},
   "outputs": [
    {
     "data": {
      "text/plain": [
       "[Text(0.8823726541554959, 0.9910714285714286, 'x[1824] <= 0.5\\ngini = 0.232\\nsamples = 4457\\nvalue = [3859, 598]'),\n",
       " Text(0.8076407506702413, 0.9732142857142857, 'x[7982] <= 0.5\\ngini = 0.155\\nsamples = 4017\\nvalue = [3676, 341]'),\n",
       " Text(0.8450067024128687, 0.9821428571428572, 'True  '),\n",
       " Text(0.7546916890080428, 0.9553571428571429, 'x[8592] <= 0.5\\ngini = 0.111\\nsamples = 3899\\nvalue = [3668, 231]'),\n",
       " Text(0.7131367292225201, 0.9375, 'x[3369] <= 0.5\\ngini = 0.094\\nsamples = 3856\\nvalue = [3666, 190]'),\n",
       " Text(0.6621983914209115, 0.9196428571428571, 'x[2063] <= 0.5\\ngini = 0.074\\nsamples = 3773\\nvalue = [3628, 145]'),\n",
       " Text(0.6514745308310992, 0.9017857142857143, 'x[350] <= 0.5\\ngini = 0.066\\nsamples = 3757\\nvalue = [3628, 129]'),\n",
       " Text(0.6407506702412868, 0.8839285714285714, 'x[8012] <= 0.5\\ngini = 0.06\\nsamples = 3743\\nvalue = [3628, 115]'),\n",
       " Text(0.6193029490616622, 0.8660714285714286, 'x[7834] <= 0.5\\ngini = 0.054\\nsamples = 3730\\nvalue = [3627, 103]'),\n",
       " Text(0.6085790884718498, 0.8482142857142857, 'x[8459] <= 0.5\\ngini = 0.05\\nsamples = 3722\\nvalue = [3627, 95]'),\n",
       " Text(0.5871313672922251, 0.8303571428571429, 'x[8077] <= 0.5\\ngini = 0.044\\nsamples = 3707\\nvalue = [3623, 84]'),\n",
       " Text(0.5764075067024129, 0.8125, 'x[880] <= 0.5\\ngini = 0.042\\nsamples = 3702\\nvalue = [3623, 79]'),\n",
       " Text(0.5656836461126006, 0.7946428571428571, 'x[3376] <= 0.5\\ngini = 0.039\\nsamples = 3697\\nvalue = [3623, 74]'),\n",
       " Text(0.5549597855227882, 0.7767857142857143, 'x[307] <= 0.5\\ngini = 0.037\\nsamples = 3692\\nvalue = [3623, 69]'),\n",
       " Text(0.5442359249329759, 0.7589285714285714, 'x[6521] <= 0.5\\ngini = 0.035\\nsamples = 3688\\nvalue = [3623, 65]'),\n",
       " Text(0.5335120643431636, 0.7410714285714286, 'x[6790] <= 0.5\\ngini = 0.033\\nsamples = 3684\\nvalue = [3623, 61]'),\n",
       " Text(0.4879356568364611, 0.7232142857142857, 'x[2407] <= 0.5\\ngini = 0.029\\nsamples = 3674\\nvalue = [3619, 55]'),\n",
       " Text(0.450402144772118, 0.7053571428571429, 'x[6803] <= 0.5\\ngini = 0.027\\nsamples = 3667\\nvalue = [3616, 51]'),\n",
       " Text(0.4289544235924933, 0.6875, 'x[3503] <= 0.5\\ngini = 0.026\\nsamples = 3663\\nvalue = [3615, 48]'),\n",
       " Text(0.41823056300268097, 0.6696428571428571, 'x[1923] <= 0.5\\ngini = 0.025\\nsamples = 3661\\nvalue = [3615, 46]'),\n",
       " Text(0.4075067024128686, 0.6517857142857143, 'x[799] <= 0.5\\ngini = 0.024\\nsamples = 3659\\nvalue = [3615, 44]'),\n",
       " Text(0.3967828418230563, 0.6339285714285714, 'x[8194] <= 0.5\\ngini = 0.023\\nsamples = 3657\\nvalue = [3615, 42]'),\n",
       " Text(0.38605898123324395, 0.6160714285714286, 'x[1227] <= 0.5\\ngini = 0.022\\nsamples = 3655\\nvalue = [3615, 40]'),\n",
       " Text(0.3753351206434316, 0.5982142857142857, 'x[5059] <= 0.5\\ngini = 0.021\\nsamples = 3653\\nvalue = [3615, 38]'),\n",
       " Text(0.3646112600536193, 0.5803571428571429, 'x[5115] <= 0.5\\ngini = 0.02\\nsamples = 3651\\nvalue = [3615, 36]'),\n",
       " Text(0.34316353887399464, 0.5625, 'x[7719] <= 0.5\\ngini = 0.017\\nsamples = 3637\\nvalue = [3606, 31]'),\n",
       " Text(0.3324396782841823, 0.5446428571428571, 'x[1531] <= 2.0\\ngini = 0.016\\nsamples = 3636\\nvalue = [3606.0, 30.0]'),\n",
       " Text(0.32171581769436997, 0.5267857142857143, 'x[285] <= 0.5\\ngini = 0.016\\nsamples = 3635\\nvalue = [3606.0, 29.0]'),\n",
       " Text(0.3109919571045576, 0.5089285714285714, 'x[1430] <= 0.5\\ngini = 0.015\\nsamples = 3634\\nvalue = [3606, 28]'),\n",
       " Text(0.3002680965147453, 0.49107142857142855, 'x[620] <= 0.5\\ngini = 0.015\\nsamples = 3633\\nvalue = [3606, 27]'),\n",
       " Text(0.289544235924933, 0.4732142857142857, 'x[4415] <= 0.5\\ngini = 0.014\\nsamples = 3632\\nvalue = [3606, 26]'),\n",
       " Text(0.27882037533512066, 0.45535714285714285, 'x[5343] <= 0.5\\ngini = 0.014\\nsamples = 3631\\nvalue = [3606, 25]'),\n",
       " Text(0.2680965147453083, 0.4375, 'x[6699] <= 0.5\\ngini = 0.013\\nsamples = 3630\\nvalue = [3606, 24]'),\n",
       " Text(0.257372654155496, 0.41964285714285715, 'x[3491] <= 0.5\\ngini = 0.013\\nsamples = 3629\\nvalue = [3606, 23]'),\n",
       " Text(0.24664879356568364, 0.4017857142857143, 'x[6126] <= 0.5\\ngini = 0.012\\nsamples = 3628\\nvalue = [3606, 22]'),\n",
       " Text(0.2359249329758713, 0.38392857142857145, 'x[293] <= 0.5\\ngini = 0.012\\nsamples = 3627\\nvalue = [3606, 21]'),\n",
       " Text(0.225201072386059, 0.36607142857142855, 'x[1] <= 0.5\\ngini = 0.011\\nsamples = 3626\\nvalue = [3606, 20]'),\n",
       " Text(0.21447721179624665, 0.3482142857142857, 'x[594] <= 0.5\\ngini = 0.01\\nsamples = 3625\\nvalue = [3606, 19]'),\n",
       " Text(0.2037533512064343, 0.33035714285714285, 'x[8469] <= 0.5\\ngini = 0.01\\nsamples = 3624\\nvalue = [3606, 18]'),\n",
       " Text(0.19302949061662197, 0.3125, 'x[7603] <= 0.5\\ngini = 0.009\\nsamples = 3623\\nvalue = [3606, 17]'),\n",
       " Text(0.18230563002680966, 0.29464285714285715, 'x[1406] <= 0.5\\ngini = 0.009\\nsamples = 3622\\nvalue = [3606, 16]'),\n",
       " Text(0.17158176943699732, 0.2767857142857143, 'x[4790] <= 0.5\\ngini = 0.008\\nsamples = 3621\\nvalue = [3606, 15]'),\n",
       " Text(0.16085790884718498, 0.25892857142857145, 'x[1242] <= 0.5\\ngini = 0.008\\nsamples = 3620\\nvalue = [3606, 14]'),\n",
       " Text(0.15013404825737264, 0.24107142857142858, 'x[4897] <= 0.5\\ngini = 0.007\\nsamples = 3619\\nvalue = [3606, 13]'),\n",
       " Text(0.13941018766756033, 0.22321428571428573, 'x[773] <= 0.5\\ngini = 0.007\\nsamples = 3618\\nvalue = [3606, 12]'),\n",
       " Text(0.128686327077748, 0.20535714285714285, 'x[519] <= 0.5\\ngini = 0.006\\nsamples = 3617\\nvalue = [3606, 11]'),\n",
       " Text(0.11796246648793565, 0.1875, 'x[1382] <= 0.5\\ngini = 0.006\\nsamples = 3616\\nvalue = [3606, 10]'),\n",
       " Text(0.10723860589812333, 0.16964285714285715, 'x[521] <= 0.5\\ngini = 0.005\\nsamples = 3615\\nvalue = [3606, 9]'),\n",
       " Text(0.09651474530831099, 0.15178571428571427, 'x[2978] <= 0.5\\ngini = 0.004\\nsamples = 3614\\nvalue = [3606.0, 8.0]'),\n",
       " Text(0.08579088471849866, 0.13392857142857142, 'x[7304] <= 0.5\\ngini = 0.004\\nsamples = 3613\\nvalue = [3606, 7]'),\n",
       " Text(0.07506702412868632, 0.11607142857142858, 'x[6551] <= 0.5\\ngini = 0.003\\nsamples = 3612\\nvalue = [3606, 6]'),\n",
       " Text(0.064343163538874, 0.09821428571428571, 'x[7323] <= 0.5\\ngini = 0.003\\nsamples = 3611\\nvalue = [3606, 5]'),\n",
       " Text(0.05361930294906166, 0.08035714285714286, 'x[344] <= 0.5\\ngini = 0.002\\nsamples = 3610\\nvalue = [3606, 4]'),\n",
       " Text(0.04289544235924933, 0.0625, 'x[305] <= 0.5\\ngini = 0.002\\nsamples = 3609\\nvalue = [3606, 3]'),\n",
       " Text(0.032171581769437, 0.044642857142857144, 'x[2134] <= 0.5\\ngini = 0.001\\nsamples = 3608\\nvalue = [3606, 2]'),\n",
       " Text(0.021447721179624665, 0.026785714285714284, 'x[7596] <= 0.5\\ngini = 0.001\\nsamples = 3607\\nvalue = [3606, 1]'),\n",
       " Text(0.010723860589812333, 0.008928571428571428, 'gini = 0.0\\nsamples = 3606\\nvalue = [3606, 0]'),\n",
       " Text(0.032171581769437, 0.008928571428571428, 'gini = 0.0\\nsamples = 1\\nvalue = [0, 1]'),\n",
       " Text(0.04289544235924933, 0.026785714285714284, 'gini = 0.0\\nsamples = 1\\nvalue = [0, 1]'),\n",
       " Text(0.05361930294906166, 0.044642857142857144, 'gini = 0.0\\nsamples = 1\\nvalue = [0, 1]'),\n",
       " Text(0.064343163538874, 0.0625, 'gini = 0.0\\nsamples = 1\\nvalue = [0, 1]'),\n",
       " Text(0.07506702412868632, 0.08035714285714286, 'gini = 0.0\\nsamples = 1\\nvalue = [0, 1]'),\n",
       " Text(0.08579088471849866, 0.09821428571428571, 'gini = 0.0\\nsamples = 1\\nvalue = [0, 1]'),\n",
       " Text(0.09651474530831099, 0.11607142857142858, 'gini = 0.0\\nsamples = 1\\nvalue = [0, 1]'),\n",
       " Text(0.10723860589812333, 0.13392857142857142, 'gini = 0.0\\nsamples = 1\\nvalue = [0, 1]'),\n",
       " Text(0.11796246648793565, 0.15178571428571427, 'gini = 0.0\\nsamples = 1\\nvalue = [0, 1]'),\n",
       " Text(0.128686327077748, 0.16964285714285715, 'gini = 0.0\\nsamples = 1\\nvalue = [0, 1]'),\n",
       " Text(0.13941018766756033, 0.1875, 'gini = 0.0\\nsamples = 1\\nvalue = [0, 1]'),\n",
       " Text(0.15013404825737264, 0.20535714285714285, 'gini = 0.0\\nsamples = 1\\nvalue = [0, 1]'),\n",
       " Text(0.16085790884718498, 0.22321428571428573, 'gini = 0.0\\nsamples = 1\\nvalue = [0, 1]'),\n",
       " Text(0.17158176943699732, 0.24107142857142858, 'gini = 0.0\\nsamples = 1\\nvalue = [0, 1]'),\n",
       " Text(0.18230563002680966, 0.25892857142857145, 'gini = 0.0\\nsamples = 1\\nvalue = [0, 1]'),\n",
       " Text(0.19302949061662197, 0.2767857142857143, 'gini = 0.0\\nsamples = 1\\nvalue = [0, 1]'),\n",
       " Text(0.2037533512064343, 0.29464285714285715, 'gini = 0.0\\nsamples = 1\\nvalue = [0, 1]'),\n",
       " Text(0.21447721179624665, 0.3125, 'gini = 0.0\\nsamples = 1\\nvalue = [0, 1]'),\n",
       " Text(0.225201072386059, 0.33035714285714285, 'gini = 0.0\\nsamples = 1\\nvalue = [0, 1]'),\n",
       " Text(0.2359249329758713, 0.3482142857142857, 'gini = 0.0\\nsamples = 1\\nvalue = [0, 1]'),\n",
       " Text(0.24664879356568364, 0.36607142857142855, 'gini = 0.0\\nsamples = 1\\nvalue = [0, 1]'),\n",
       " Text(0.257372654155496, 0.38392857142857145, 'gini = 0.0\\nsamples = 1\\nvalue = [0, 1]'),\n",
       " Text(0.2680965147453083, 0.4017857142857143, 'gini = 0.0\\nsamples = 1\\nvalue = [0, 1]'),\n",
       " Text(0.27882037533512066, 0.41964285714285715, 'gini = 0.0\\nsamples = 1\\nvalue = [0, 1]'),\n",
       " Text(0.289544235924933, 0.4375, 'gini = 0.0\\nsamples = 1\\nvalue = [0, 1]'),\n",
       " Text(0.3002680965147453, 0.45535714285714285, 'gini = 0.0\\nsamples = 1\\nvalue = [0, 1]'),\n",
       " Text(0.3109919571045576, 0.4732142857142857, 'gini = 0.0\\nsamples = 1\\nvalue = [0, 1]'),\n",
       " Text(0.32171581769436997, 0.49107142857142855, 'gini = 0.0\\nsamples = 1\\nvalue = [0, 1]'),\n",
       " Text(0.3324396782841823, 0.5089285714285714, 'gini = 0.0\\nsamples = 1\\nvalue = [0, 1]'),\n",
       " Text(0.34316353887399464, 0.5267857142857143, 'gini = 0.0\\nsamples = 1\\nvalue = [0, 1]'),\n",
       " Text(0.353887399463807, 0.5446428571428571, 'gini = 0.0\\nsamples = 1\\nvalue = [0, 1]'),\n",
       " Text(0.38605898123324395, 0.5625, 'x[8670] <= 0.5\\ngini = 0.459\\nsamples = 14\\nvalue = [9, 5]'),\n",
       " Text(0.3753351206434316, 0.5446428571428571, 'x[1807] <= 0.5\\ngini = 0.298\\nsamples = 11\\nvalue = [9, 2]'),\n",
       " Text(0.3646112600536193, 0.5267857142857143, 'gini = 0.0\\nsamples = 9\\nvalue = [9, 0]'),\n",
       " Text(0.38605898123324395, 0.5267857142857143, 'gini = 0.0\\nsamples = 2\\nvalue = [0, 2]'),\n",
       " Text(0.3967828418230563, 0.5446428571428571, 'gini = 0.0\\nsamples = 3\\nvalue = [0, 3]'),\n",
       " Text(0.38605898123324395, 0.5803571428571429, 'gini = 0.0\\nsamples = 2\\nvalue = [0, 2]'),\n",
       " Text(0.3967828418230563, 0.5982142857142857, 'gini = 0.0\\nsamples = 2\\nvalue = [0, 2]'),\n",
       " Text(0.4075067024128686, 0.6160714285714286, 'gini = 0.0\\nsamples = 2\\nvalue = [0, 2]'),\n",
       " Text(0.41823056300268097, 0.6339285714285714, 'gini = 0.0\\nsamples = 2\\nvalue = [0, 2]'),\n",
       " Text(0.4289544235924933, 0.6517857142857143, 'gini = 0.0\\nsamples = 2\\nvalue = [0, 2]'),\n",
       " Text(0.43967828418230565, 0.6696428571428571, 'gini = 0.0\\nsamples = 2\\nvalue = [0, 2]'),\n",
       " Text(0.4718498659517426, 0.6875, 'x[4735] <= 0.5\\ngini = 0.375\\nsamples = 4\\nvalue = [1, 3]'),\n",
       " Text(0.46112600536193027, 0.6696428571428571, 'gini = 0.0\\nsamples = 3\\nvalue = [0, 3]'),\n",
       " Text(0.48257372654155495, 0.6696428571428571, 'gini = 0.0\\nsamples = 1\\nvalue = [1, 0]'),\n",
       " Text(0.5254691689008043, 0.7053571428571429, 'x[6791] <= 0.5\\ngini = 0.49\\nsamples = 7\\nvalue = [3, 4]'),\n",
       " Text(0.514745308310992, 0.6875, 'x[5763] <= 0.5\\ngini = 0.375\\nsamples = 4\\nvalue = [3, 1]'),\n",
       " Text(0.5040214477211796, 0.6696428571428571, 'gini = 0.0\\nsamples = 3\\nvalue = [3, 0]'),\n",
       " Text(0.5254691689008043, 0.6696428571428571, 'gini = 0.0\\nsamples = 1\\nvalue = [0, 1]'),\n",
       " Text(0.5361930294906166, 0.6875, 'gini = 0.0\\nsamples = 3\\nvalue = [0, 3]'),\n",
       " Text(0.579088471849866, 0.7232142857142857, 'x[4050] <= 0.5\\ngini = 0.48\\nsamples = 10\\nvalue = [4, 6]'),\n",
       " Text(0.5683646112600537, 0.7053571428571429, 'x[1807] <= 0.5\\ngini = 0.375\\nsamples = 8\\nvalue = [2, 6]'),\n",
       " Text(0.5576407506702413, 0.6875, 'x[4546] <= 0.5\\ngini = 0.245\\nsamples = 7\\nvalue = [1, 6]'),\n",
       " Text(0.546916890080429, 0.6696428571428571, 'gini = 0.0\\nsamples = 6\\nvalue = [0, 6]'),\n",
       " Text(0.5683646112600537, 0.6696428571428571, 'gini = 0.0\\nsamples = 1\\nvalue = [1, 0]'),\n",
       " Text(0.579088471849866, 0.6875, 'gini = 0.0\\nsamples = 1\\nvalue = [1, 0]'),\n",
       " Text(0.5898123324396782, 0.7053571428571429, 'gini = 0.0\\nsamples = 2\\nvalue = [2, 0]'),\n",
       " Text(0.5549597855227882, 0.7410714285714286, 'gini = 0.0\\nsamples = 4\\nvalue = [0, 4]'),\n",
       " Text(0.5656836461126006, 0.7589285714285714, 'gini = 0.0\\nsamples = 4\\nvalue = [0, 4]'),\n",
       " Text(0.5764075067024129, 0.7767857142857143, 'gini = 0.0\\nsamples = 5\\nvalue = [0, 5]'),\n",
       " Text(0.5871313672922251, 0.7946428571428571, 'gini = 0.0\\nsamples = 5\\nvalue = [0, 5]'),\n",
       " Text(0.5978552278820375, 0.8125, 'gini = 0.0\\nsamples = 5\\nvalue = [0, 5]'),\n",
       " Text(0.6300268096514745, 0.8303571428571429, 'x[4229] <= 0.5\\ngini = 0.391\\nsamples = 15\\nvalue = [4, 11]'),\n",
       " Text(0.6193029490616622, 0.8125, 'x[7085] <= 0.5\\ngini = 0.153\\nsamples = 12\\nvalue = [1, 11]'),\n",
       " Text(0.6085790884718498, 0.7946428571428571, 'gini = 0.0\\nsamples = 11\\nvalue = [0, 11]'),\n",
       " Text(0.6300268096514745, 0.7946428571428571, 'gini = 0.0\\nsamples = 1\\nvalue = [1, 0]'),\n",
       " Text(0.6407506702412868, 0.8125, 'gini = 0.0\\nsamples = 3\\nvalue = [3, 0]'),\n",
       " Text(0.6300268096514745, 0.8482142857142857, 'gini = 0.0\\nsamples = 8\\nvalue = [0, 8]'),\n",
       " Text(0.6621983914209115, 0.8660714285714286, 'x[3589] <= 0.5\\ngini = 0.142\\nsamples = 13\\nvalue = [1, 12]'),\n",
       " Text(0.6514745308310992, 0.8482142857142857, 'gini = 0.0\\nsamples = 12\\nvalue = [0, 12]'),\n",
       " Text(0.6729222520107239, 0.8482142857142857, 'gini = 0.0\\nsamples = 1\\nvalue = [1, 0]'),\n",
       " Text(0.6621983914209115, 0.8839285714285714, 'gini = 0.0\\nsamples = 14\\nvalue = [0, 14]'),\n",
       " Text(0.6729222520107239, 0.9017857142857143, 'gini = 0.0\\nsamples = 16\\nvalue = [0, 16]'),\n",
       " Text(0.7640750670241286, 0.9196428571428571, 'x[3519] <= 0.5\\ngini = 0.496\\nsamples = 83\\nvalue = [38, 45]'),\n",
       " Text(0.7372654155495979, 0.9017857142857143, 'x[8670] <= 0.5\\ngini = 0.48\\nsamples = 60\\nvalue = [36, 24]'),\n",
       " Text(0.7158176943699732, 0.8839285714285714, 'x[7311] <= 0.5\\ngini = 0.408\\nsamples = 49\\nvalue = [35, 14]'),\n",
       " Text(0.7050938337801609, 0.8660714285714286, 'x[6521] <= 0.5\\ngini = 0.346\\nsamples = 45\\nvalue = [35, 10]'),\n",
       " Text(0.6943699731903485, 0.8482142857142857, 'x[5449] <= 0.5\\ngini = 0.278\\nsamples = 42\\nvalue = [35, 7]'),\n",
       " Text(0.6836461126005362, 0.8303571428571429, 'x[2468] <= 0.5\\ngini = 0.219\\nsamples = 40\\nvalue = [35, 5]'),\n",
       " Text(0.6729222520107239, 0.8125, 'x[5726] <= 0.5\\ngini = 0.145\\nsamples = 38\\nvalue = [35, 3]'),\n",
       " Text(0.6621983914209115, 0.7946428571428571, 'x[6769] <= 0.5\\ngini = 0.102\\nsamples = 37\\nvalue = [35, 2]'),\n",
       " Text(0.6514745308310992, 0.7767857142857143, 'x[5345] <= 0.5\\ngini = 0.054\\nsamples = 36\\nvalue = [35, 1]'),\n",
       " Text(0.6407506702412868, 0.7589285714285714, 'gini = 0.0\\nsamples = 35\\nvalue = [35, 0]'),\n",
       " Text(0.6621983914209115, 0.7589285714285714, 'gini = 0.0\\nsamples = 1\\nvalue = [0, 1]'),\n",
       " Text(0.6729222520107239, 0.7767857142857143, 'gini = 0.0\\nsamples = 1\\nvalue = [0, 1]'),\n",
       " Text(0.6836461126005362, 0.7946428571428571, 'gini = 0.0\\nsamples = 1\\nvalue = [0, 1]'),\n",
       " Text(0.6943699731903485, 0.8125, 'gini = 0.0\\nsamples = 2\\nvalue = [0, 2]'),\n",
       " Text(0.7050938337801609, 0.8303571428571429, 'gini = 0.0\\nsamples = 2\\nvalue = [0, 2]'),\n",
       " Text(0.7158176943699732, 0.8482142857142857, 'gini = 0.0\\nsamples = 3\\nvalue = [0, 3]'),\n",
       " Text(0.7265415549597856, 0.8660714285714286, 'gini = 0.0\\nsamples = 4\\nvalue = [0, 4]'),\n",
       " Text(0.7587131367292225, 0.8839285714285714, 'x[4407] <= 0.5\\ngini = 0.165\\nsamples = 11\\nvalue = [1, 10]'),\n",
       " Text(0.7479892761394102, 0.8660714285714286, 'gini = 0.0\\nsamples = 10\\nvalue = [0, 10]'),\n",
       " Text(0.7694369973190348, 0.8660714285714286, 'gini = 0.0\\nsamples = 1\\nvalue = [1, 0]'),\n",
       " Text(0.7908847184986595, 0.9017857142857143, 'x[1849] <= 1.5\\ngini = 0.159\\nsamples = 23\\nvalue = [2, 21]'),\n",
       " Text(0.7801608579088471, 0.8839285714285714, 'gini = 0.0\\nsamples = 21\\nvalue = [0, 21]'),\n",
       " Text(0.8016085790884718, 0.8839285714285714, 'gini = 0.0\\nsamples = 2\\nvalue = [2, 0]'),\n",
       " Text(0.7962466487935657, 0.9375, 'x[4241] <= 0.5\\ngini = 0.089\\nsamples = 43\\nvalue = [2, 41]'),\n",
       " Text(0.7855227882037533, 0.9196428571428571, 'gini = 0.0\\nsamples = 41\\nvalue = [0, 41]'),\n",
       " Text(0.806970509383378, 0.9196428571428571, 'gini = 0.0\\nsamples = 2\\nvalue = [2, 0]'),\n",
       " Text(0.8605898123324397, 0.9553571428571429, 'x[7802] <= 0.5\\ngini = 0.126\\nsamples = 118\\nvalue = [8, 110]'),\n",
       " Text(0.839142091152815, 0.9375, 'x[7311] <= 0.5\\ngini = 0.497\\nsamples = 13\\nvalue = [7, 6]'),\n",
       " Text(0.8284182305630027, 0.9196428571428571, 'gini = 0.0\\nsamples = 7\\nvalue = [7, 0]'),\n",
       " Text(0.8498659517426274, 0.9196428571428571, 'gini = 0.0\\nsamples = 6\\nvalue = [0, 6]'),\n",
       " Text(0.8820375335120644, 0.9375, 'x[4726] <= 0.5\\ngini = 0.019\\nsamples = 105\\nvalue = [1, 104]'),\n",
       " Text(0.871313672922252, 0.9196428571428571, 'gini = 0.0\\nsamples = 104\\nvalue = [0, 104]'),\n",
       " Text(0.8927613941018767, 0.9196428571428571, 'gini = 0.0\\nsamples = 1\\nvalue = [1, 0]'),\n",
       " Text(0.9571045576407506, 0.9732142857142857, 'x[4964] <= 0.5\\ngini = 0.486\\nsamples = 440\\nvalue = [183, 257]'),\n",
       " Text(0.9197386058981233, 0.9821428571428572, '  False'),\n",
       " Text(0.935656836461126, 0.9553571428571429, 'x[4692] <= 0.5\\ngini = 0.419\\nsamples = 361\\nvalue = [108.0, 253.0]'),\n",
       " Text(0.9249329758713136, 0.9375, 'x[3680] <= 0.5\\ngini = 0.34\\nsamples = 323\\nvalue = [70.0, 253.0]'),\n",
       " Text(0.9142091152815014, 0.9196428571428571, 'x[3921] <= 0.5\\ngini = 0.319\\nsamples = 316\\nvalue = [63.0, 253.0]'),\n",
       " Text(0.903485254691689, 0.9017857142857143, 'x[8537] <= 0.5\\ngini = 0.297\\nsamples = 309\\nvalue = [56.0, 253.0]'),\n",
       " Text(0.8927613941018767, 0.8839285714285714, 'x[3611] <= 0.5\\ngini = 0.276\\nsamples = 303\\nvalue = [50, 253]'),\n",
       " Text(0.8820375335120644, 0.8660714285714286, 'x[5534] <= 0.5\\ngini = 0.252\\nsamples = 297\\nvalue = [44, 253]'),\n",
       " Text(0.871313672922252, 0.8482142857142857, 'x[7122] <= 0.5\\ngini = 0.236\\nsamples = 293\\nvalue = [40, 253]'),\n",
       " Text(0.8605898123324397, 0.8303571428571429, 'x[4546] <= 0.5\\ngini = 0.223\\nsamples = 290\\nvalue = [37, 253]'),\n",
       " Text(0.8498659517426274, 0.8125, 'x[5250] <= 0.5\\ngini = 0.209\\nsamples = 287\\nvalue = [34, 253]'),\n",
       " Text(0.8284182305630027, 0.7946428571428571, 'x[2424] <= 0.5\\ngini = 0.19\\nsamples = 282\\nvalue = [30, 252]'),\n",
       " Text(0.8176943699731903, 0.7767857142857143, 'x[8082] <= 0.5\\ngini = 0.175\\nsamples = 279\\nvalue = [27, 252]'),\n",
       " Text(0.7962466487935657, 0.7589285714285714, 'x[8277] <= 0.5\\ngini = 0.159\\nsamples = 275\\nvalue = [24.0, 251.0]'),\n",
       " Text(0.7855227882037533, 0.7410714285714286, 'x[7669] <= 0.5\\ngini = 0.148\\nsamples = 273\\nvalue = [22, 251]'),\n",
       " Text(0.774798927613941, 0.7232142857142857, 'x[8116] <= 0.5\\ngini = 0.137\\nsamples = 271\\nvalue = [20, 251]'),\n",
       " Text(0.7640750670241286, 0.7053571428571429, 'x[1244] <= 0.5\\ngini = 0.125\\nsamples = 269\\nvalue = [18, 251]'),\n",
       " Text(0.7533512064343163, 0.6875, 'x[7820] <= 0.5\\ngini = 0.113\\nsamples = 267\\nvalue = [16, 251]'),\n",
       " Text(0.7426273458445041, 0.6696428571428571, 'x[3939] <= 0.5\\ngini = 0.106\\nsamples = 266\\nvalue = [15, 251]'),\n",
       " Text(0.7319034852546917, 0.6517857142857143, 'x[3796] <= 0.5\\ngini = 0.1\\nsamples = 265\\nvalue = [14, 251]'),\n",
       " Text(0.7211796246648794, 0.6339285714285714, 'x[1047] <= 0.5\\ngini = 0.094\\nsamples = 264\\nvalue = [13, 251]'),\n",
       " Text(0.710455764075067, 0.6160714285714286, 'x[1482] <= 0.5\\ngini = 0.087\\nsamples = 263\\nvalue = [12, 251]'),\n",
       " Text(0.6997319034852547, 0.5982142857142857, 'x[4077] <= 1.0\\ngini = 0.08\\nsamples = 262\\nvalue = [11, 251]'),\n",
       " Text(0.6890080428954424, 0.5803571428571429, 'x[6960] <= 0.5\\ngini = 0.074\\nsamples = 261\\nvalue = [10, 251]'),\n",
       " Text(0.67828418230563, 0.5625, 'x[396] <= 0.5\\ngini = 0.067\\nsamples = 260\\nvalue = [9, 251]'),\n",
       " Text(0.6675603217158177, 0.5446428571428571, 'x[1171] <= 0.5\\ngini = 0.06\\nsamples = 259\\nvalue = [8, 251]'),\n",
       " Text(0.6568364611260054, 0.5267857142857143, 'x[7538] <= 0.5\\ngini = 0.053\\nsamples = 258\\nvalue = [7, 251]'),\n",
       " Text(0.646112600536193, 0.5089285714285714, 'x[4802] <= 0.5\\ngini = 0.046\\nsamples = 257\\nvalue = [6, 251]'),\n",
       " Text(0.6353887399463807, 0.49107142857142855, 'x[4983] <= 0.5\\ngini = 0.038\\nsamples = 256\\nvalue = [5, 251]'),\n",
       " Text(0.6246648793565683, 0.4732142857142857, 'x[1849] <= 0.5\\ngini = 0.031\\nsamples = 255\\nvalue = [4, 251]'),\n",
       " Text(0.6032171581769437, 0.45535714285714285, 'x[8276] <= 0.5\\ngini = 0.008\\nsamples = 245\\nvalue = [1, 244]'),\n",
       " Text(0.5924932975871313, 0.4375, 'gini = 0.0\\nsamples = 237\\nvalue = [0, 237]'),\n",
       " Text(0.613941018766756, 0.4375, 'x[8664] <= 0.5\\ngini = 0.219\\nsamples = 8\\nvalue = [1, 7]'),\n",
       " Text(0.6032171581769437, 0.41964285714285715, 'gini = 0.0\\nsamples = 1\\nvalue = [1, 0]'),\n",
       " Text(0.6246648793565683, 0.41964285714285715, 'gini = 0.0\\nsamples = 7\\nvalue = [0, 7]'),\n",
       " Text(0.646112600536193, 0.45535714285714285, 'x[5449] <= 0.5\\ngini = 0.42\\nsamples = 10\\nvalue = [3, 7]'),\n",
       " Text(0.6353887399463807, 0.4375, 'gini = 0.0\\nsamples = 5\\nvalue = [0, 5]'),\n",
       " Text(0.6568364611260054, 0.4375, 'x[3369] <= 0.5\\ngini = 0.48\\nsamples = 5\\nvalue = [3, 2]'),\n",
       " Text(0.646112600536193, 0.41964285714285715, 'gini = 0.0\\nsamples = 2\\nvalue = [2, 0]'),\n",
       " Text(0.6675603217158177, 0.41964285714285715, 'x[1193] <= 0.5\\ngini = 0.444\\nsamples = 3\\nvalue = [1, 2]'),\n",
       " Text(0.6568364611260054, 0.4017857142857143, 'gini = 0.0\\nsamples = 2\\nvalue = [0, 2]'),\n",
       " Text(0.67828418230563, 0.4017857142857143, 'gini = 0.0\\nsamples = 1\\nvalue = [1, 0]'),\n",
       " Text(0.646112600536193, 0.4732142857142857, 'gini = 0.0\\nsamples = 1\\nvalue = [1, 0]'),\n",
       " Text(0.6568364611260054, 0.49107142857142855, 'gini = 0.0\\nsamples = 1\\nvalue = [1, 0]'),\n",
       " Text(0.6675603217158177, 0.5089285714285714, 'gini = 0.0\\nsamples = 1\\nvalue = [1, 0]'),\n",
       " Text(0.67828418230563, 0.5267857142857143, 'gini = 0.0\\nsamples = 1\\nvalue = [1, 0]'),\n",
       " Text(0.6890080428954424, 0.5446428571428571, 'gini = 0.0\\nsamples = 1\\nvalue = [1, 0]'),\n",
       " Text(0.6997319034852547, 0.5625, 'gini = 0.0\\nsamples = 1\\nvalue = [1, 0]'),\n",
       " Text(0.710455764075067, 0.5803571428571429, 'gini = 0.0\\nsamples = 1\\nvalue = [1, 0]'),\n",
       " Text(0.7211796246648794, 0.5982142857142857, 'gini = 0.0\\nsamples = 1\\nvalue = [1, 0]'),\n",
       " Text(0.7319034852546917, 0.6160714285714286, 'gini = 0.0\\nsamples = 1\\nvalue = [1, 0]'),\n",
       " Text(0.7426273458445041, 0.6339285714285714, 'gini = 0.0\\nsamples = 1\\nvalue = [1, 0]'),\n",
       " Text(0.7533512064343163, 0.6517857142857143, 'gini = 0.0\\nsamples = 1\\nvalue = [1, 0]'),\n",
       " Text(0.7640750670241286, 0.6696428571428571, 'gini = 0.0\\nsamples = 1\\nvalue = [1, 0]'),\n",
       " Text(0.774798927613941, 0.6875, 'gini = 0.0\\nsamples = 2\\nvalue = [2, 0]'),\n",
       " Text(0.7855227882037533, 0.7053571428571429, 'gini = 0.0\\nsamples = 2\\nvalue = [2, 0]'),\n",
       " Text(0.7962466487935657, 0.7232142857142857, 'gini = 0.0\\nsamples = 2\\nvalue = [2, 0]'),\n",
       " Text(0.806970509383378, 0.7410714285714286, 'gini = 0.0\\nsamples = 2\\nvalue = [2, 0]'),\n",
       " Text(0.839142091152815, 0.7589285714285714, 'x[4010] <= 1.0\\ngini = 0.375\\nsamples = 4\\nvalue = [3, 1]'),\n",
       " Text(0.8284182305630027, 0.7410714285714286, 'gini = 0.0\\nsamples = 3\\nvalue = [3, 0]'),\n",
       " Text(0.8498659517426274, 0.7410714285714286, 'gini = 0.0\\nsamples = 1\\nvalue = [0, 1]'),\n",
       " Text(0.839142091152815, 0.7767857142857143, 'gini = 0.0\\nsamples = 3\\nvalue = [3, 0]'),\n",
       " Text(0.871313672922252, 0.7946428571428571, 'x[2924] <= 0.5\\ngini = 0.32\\nsamples = 5\\nvalue = [4, 1]'),\n",
       " Text(0.8605898123324397, 0.7767857142857143, 'gini = 0.0\\nsamples = 4\\nvalue = [4, 0]'),\n",
       " Text(0.8820375335120644, 0.7767857142857143, 'gini = 0.0\\nsamples = 1\\nvalue = [0, 1]'),\n",
       " Text(0.871313672922252, 0.8125, 'gini = 0.0\\nsamples = 3\\nvalue = [3, 0]'),\n",
       " Text(0.8820375335120644, 0.8303571428571429, 'gini = 0.0\\nsamples = 3\\nvalue = [3, 0]'),\n",
       " Text(0.8927613941018767, 0.8482142857142857, 'gini = 0.0\\nsamples = 4\\nvalue = [4, 0]'),\n",
       " Text(0.903485254691689, 0.8660714285714286, 'gini = 0.0\\nsamples = 6\\nvalue = [6, 0]'),\n",
       " Text(0.9142091152815014, 0.8839285714285714, 'gini = 0.0\\nsamples = 6\\nvalue = [6, 0]'),\n",
       " Text(0.9249329758713136, 0.9017857142857143, 'gini = 0.0\\nsamples = 7\\nvalue = [7, 0]'),\n",
       " Text(0.935656836461126, 0.9196428571428571, 'gini = 0.0\\nsamples = 7\\nvalue = [7, 0]'),\n",
       " Text(0.9463806970509383, 0.9375, 'gini = 0.0\\nsamples = 38\\nvalue = [38, 0]'),\n",
       " Text(0.9785522788203753, 0.9553571428571429, 'x[2391] <= 0.5\\ngini = 0.096\\nsamples = 79\\nvalue = [75, 4]'),\n",
       " Text(0.967828418230563, 0.9375, 'x[4638] <= 0.5\\ngini = 0.051\\nsamples = 77\\nvalue = [75, 2]'),\n",
       " Text(0.9571045576407506, 0.9196428571428571, 'gini = 0.0\\nsamples = 74\\nvalue = [74, 0]'),\n",
       " Text(0.9785522788203753, 0.9196428571428571, 'x[5250] <= 0.5\\ngini = 0.444\\nsamples = 3\\nvalue = [1, 2]'),\n",
       " Text(0.967828418230563, 0.9017857142857143, 'gini = 0.0\\nsamples = 1\\nvalue = [1, 0]'),\n",
       " Text(0.9892761394101877, 0.9017857142857143, 'gini = 0.0\\nsamples = 2\\nvalue = [0, 2]'),\n",
       " Text(0.9892761394101877, 0.9375, 'gini = 0.0\\nsamples = 2\\nvalue = [0, 2]')]"
      ]
     },
     "execution_count": 75,
     "metadata": {},
     "output_type": "execute_result"
    },
    {
     "data": {
      "image/png": "[encoded data removed]",
      "text/plain": [
       "<Figure size 640x480 with 1 Axes>"
      ]
     },
     "metadata": {},
     "output_type": "display_data"
    }
   ],
   "source": [
    "# Plot the tree\n",
    "tree.plot_tree(clf)"
   ]
  },
  {
   "cell_type": "markdown",
   "id": "67d99e06",
   "metadata": {},
   "source": [
    "# Evaluation"
   ]
  },
  {
   "cell_type": "code",
   "execution_count": 77,
   "id": "5c1ba23e",
   "metadata": {},
   "outputs": [
    {
     "name": "stdout",
     "output_type": "stream",
     "text": [
      "Accuracy: 0.9730941704035875\n",
      "Precision: 0.9103448275862069\n",
      "Recall: 0.8859060402684564\n",
      "F1 Score: 0.8979591836734694\n",
      "Classification Report:\n",
      "              precision    recall  f1-score   support\n",
      "\n",
      "           0       0.98      0.99      0.98       966\n",
      "           1       0.91      0.89      0.90       149\n",
      "\n",
      "    accuracy                           0.97      1115\n",
      "   macro avg       0.95      0.94      0.94      1115\n",
      "weighted avg       0.97      0.97      0.97      1115\n",
      "\n"
     ]
    }
   ],
   "source": [
    "y_pred = clf.predict(X_test)\n",
    "\n",
    "accuracy = accuracy_score(y_test, y_pred)\n",
    "precision = precision_score(y_test, y_pred)\n",
    "recall = recall_score(y_test, y_pred)\n",
    "f1 = f1_score(y_test, y_pred)\n",
    "report = classification_report(y_test, y_pred)\n",
    "\n",
    "print(f\"Accuracy: {accuracy}\")\n",
    "print(f\"Precision: {precision}\")\n",
    "print(f\"Recall: {recall}\")\n",
    "print(f\"F1 Score: {f1}\")\n",
    "\n",
    "print(\"Classification Report:\")\n",
    "print(report)"
   ]
  },
  {
   "cell_type": "code",
   "execution_count": null,
   "id": "7d514f25",
   "metadata": {},
   "outputs": [
    {
     "name": "stdout",
     "output_type": "stream",
     "text": [
      "Confusion Matrix:\n",
      "[[953  13]\n",
      " [ 17 132]]\n"
     ]
    }
   ],
   "source": [
    "confusion_matrix = confusion_matrix(y_test, y_pred)\n",
    "\n",
    "print(\"Confusion Matrix:\")\n",
    "print(confusion_matrix)\n"
   ]
  },
  {
   "cell_type": "code",
   "execution_count": 79,
   "id": "292204b4",
   "metadata": {},
   "outputs": [
    {
     "data": {
      "image/png": "[encoded data removed]",
      "text/plain": [
       "<Figure size 640x480 with 2 Axes>"
      ]
     },
     "metadata": {},
     "output_type": "display_data"
    }
   ],
   "source": [
    "# Plot confusion maxtrix\n",
    "from sklearn.metrics import confusion_matrix, ConfusionMatrixDisplay\n",
    "import matplotlib.pyplot as plt\n",
    "\n",
    "cm = confusion_matrix(y_test, y_pred)\n",
    "\n",
    "disp = ConfusionMatrixDisplay(confusion_matrix=cm, display_labels=clf.classes_)\n",
    "disp.plot(cmap=plt.cm.Blues) # Customize colormap if desired\n",
    "plt.title(\"Confusion Matrix\")\n",
    "plt.show()"
   ]
  }
 ],
 "metadata": {
  "kernelspec": {
   "display_name": ".venv",
   "language": "python",
   "name": "python3"
  },
  "language_info": {
   "codemirror_mode": {
    "name": "ipython",
    "version": 3
   },
   "file_extension": ".py",
   "mimetype": "text/x-python",
   "name": "python",
   "nbconvert_exporter": "python",
   "pygments_lexer": "ipython3",
   "version": "3.12.9"
  }
 },
 "nbformat": 4,
 "nbformat_minor": 5
}
