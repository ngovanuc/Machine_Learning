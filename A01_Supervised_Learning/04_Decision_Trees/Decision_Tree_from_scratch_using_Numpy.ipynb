{
 "cells": [
  {
   "cell_type": "code",
   "execution_count": 1,
   "id": "f60b384c",
   "metadata": {},
   "outputs": [],
   "source": [
    "import numpy\n",
    "import pandas as pd\n",
    "import random"
   ]
  },
  {
   "cell_type": "code",
   "execution_count": null,
   "id": "949c0138",
   "metadata": {},
   "outputs": [],
   "source": [
    "def trainTestSplit(dataFrame, testSize):\n",
    "    \"\"\"Split a DataFrame into training and testing sets.\n",
    "    \n",
    "    Parameters:\n",
    "        dataFrame (pd.DataFrame): The input DataFrame to be split.\n",
    "        testSize (int or float): The size of the test set.\n",
    "            - If int: the absolute number of test samples.\n",
    "            - If float: the proportion of the dataset to include in the test split\n",
    "              (should be between 0.0 and 1.0).\n",
    "    \n",
    "    Returns:\n",
    "        tuple: A tuple containing two DataFrames:\n",
    "            - dataFrameTrain (pd.DataFrame): The training set containing the remaining samples.\n",
    "            - dataFrameTest (pd.DataFrame): The test set containing the sampled samples.\n",
    "    \"\"\"\n",
    "    if isinstance(testSize, float):\n",
    "        testSize = round(testSize * len(dataFrame))\n",
    "    indices = dataFrame.index.tolist()\n",
    "    testIndices = random.sample(population=indices, k=testSize)\n",
    "    dataFrameTest = dataFrame.loc[testIndices]\n",
    "    dataFrameTrain = dataFrame.drop(testIndices)\n",
    "    return dataFrameTrain, dataFrameTest"
   ]
  },
  {
   "cell_type": "code",
   "execution_count": null,
   "id": "3cd3ffc1",
   "metadata": {},
   "outputs": [],
   "source": [
    "def checkPurity(data):\n",
    "    if len(numpy.unique(data[:, -1])) == 1:\n",
    "        return True\n",
    "    else:\n",
    "        return False"
   ]
  },
  {
   "cell_type": "code",
   "execution_count": null,
   "id": "7a81212c",
   "metadata": {},
   "outputs": [],
   "source": [
    "def classifyData(data):\n",
    "    uniqueClasses, uniqueClassesCounts = numpy.unique(data[:, -1], return_counts = True)\n",
    "    return uniqueClasses[uniqueClassesCounts.argmax()]"
   ]
  },
  {
   "cell_type": "code",
   "execution_count": null,
   "id": "ef4e5de7",
   "metadata": {},
   "outputs": [],
   "source": [
    "def getPotentialSplits(data, randomAttributes):\n",
    "    potentialSplits = {}\n",
    "    _, columns = data.shape\n",
    "    columnsIndices = list(range(columns - 1))\n",
    "    if randomAttributes != None  and len(randomAttributes) <= len(columnsIndices):\n",
    "        columnsIndices = randomAttributes\n",
    "    for column in columnsIndices:\n",
    "        values = data[:, column]\n",
    "        uniqueValues = numpy.unique(values)\n",
    "        if len(uniqueValues) == 1:\n",
    "            potentialSplits[column] = uniqueValues\n",
    "        else:\n",
    "            potentialSplits[column] = []\n",
    "            for i in range(len(uniqueValues)):\n",
    "                if i != 0:\n",
    "                    currentValue = uniqueValues[i]\n",
    "                    previousValue = uniqueValues[i - 1]\n",
    "                    potentialSplits[column].append((currentValue + previousValue) / 2)\n",
    "    return potentialSplits\n"
   ]
  },
  {
   "cell_type": "code",
   "execution_count": null,
   "id": "65e88fc3",
   "metadata": {},
   "outputs": [],
   "source": [
    "def splitData(data, splitColumn, splitValue):\n",
    "    splitColumnValues = data[:, splitColumn]\n",
    "    return data[splitColumnValues <= splitValue], data[splitColumnValues > splitValue]"
   ]
  },
  {
   "cell_type": "code",
   "execution_count": null,
   "id": "38620eeb",
   "metadata": {},
   "outputs": [],
   "source": [
    "def calculateEntropy(data):\n",
    "    _, uniqueClassesCounts = numpy.unique(data[:, -1], return_counts = True)\n",
    "    probabilities = uniqueClassesCounts / uniqueClassesCounts.sum()\n",
    "    return sum(probabilities * -numpy.log2(probabilities))"
   ]
  },
  {
   "cell_type": "code",
   "execution_count": null,
   "id": "5b8b382d",
   "metadata": {},
   "outputs": [],
   "source": [
    "def calculateOverallEntropy(dataBelow, dataAbove):\n",
    "    pDataBelow = len(dataBelow) / (len(dataBelow) + len(dataAbove))\n",
    "    pDataAbove = len(dataAbove) / (len(dataBelow) + len(dataAbove))\n",
    "    return pDataBelow * calculateEntropy(dataBelow) + pDataAbove * calculateEntropy(dataAbove)\n"
   ]
  },
  {
   "cell_type": "code",
   "execution_count": null,
   "metadata": {},
   "outputs": [],
   "source": [
    "def determineBestSplit(data, potentialSplits, randomSplits = None):\n",
    "    overallEntropy = 9999\n",
    "    bestSplitColumn = 0\n",
    "    bestSplitValue = 0\n",
    "    if randomSplits == None:\n",
    "        for splitColumn in potentialSplits:\n",
    "            for splitValue in potentialSplits[splitColumn]:\n",
    "                dataBelow, dataAbove = splitData(data, splitColumn, splitValue)\n",
    "                currentOverallEntropy = calculateOverallEntropy(dataBelow, dataAbove)\n",
    "                if currentOverallEntropy <= overallEntropy:\n",
    "                    overallEntropy = currentOverallEntropy\n",
    "                    bestSplitColumn = splitColumn\n",
    "                    bestSplitValue = splitValue\n",
    "    else:\n",
    "        for i in range(randomSplits):\n",
    "            randomSplitColumn = random.choice(list(potentialSplits))\n",
    "            randomSplitValue = random.choice(potentialSplits[randomSplitColumn])\n",
    "            dataBelow, dataAbove = splitData(data, randomSplitColumn, randomSplitValue)\n",
    "            currentOverallEntropy = calculateOverallEntropy(dataBelow, dataAbove)\n",
    "            if currentOverallEntropy <= overallEntropy:\n",
    "                overallEntropy = currentOverallEntropy\n",
    "                bestSplitColumn = randomSplitColumn\n",
    "                bestSplitValue = randomSplitValue\n",
    "    return bestSplitColumn, bestSplitValue\n"
   ]
  },
  {
   "cell_type": "code",
   "execution_count": null,
   "id": "d939b967",
   "metadata": {},
   "outputs": [],
   "source": [
    "def buildDecisionTree(dataFrame, currentDepth = 0, minSampleSize = 2, maxDepth = 1000, randomAttributes = None, randomSplits = None):\n",
    "    if currentDepth == 0:\n",
    "        global COLUMN_HEADERS\n",
    "        COLUMN_HEADERS = dataFrame.columns\n",
    "        data = dataFrame.values\n",
    "        if randomAttributes != None and randomAttributes <= len(COLUMN_HEADERS) - 1:\n",
    "            randomAttributes = random.sample(population = list(range(len(COLUMN_HEADERS) - 1)), k = randomAttributes)\n",
    "        else:\n",
    "            randomAttributes = None\n",
    "    else:\n",
    "        data = dataFrame\n",
    "    if checkPurity(data) or len(data) < minSampleSize or currentDepth == maxDepth:\n",
    "        return classifyData(data)\n",
    "    else:\n",
    "        currentDepth += 1\n",
    "        potentialSplits = getPotentialSplits(data, randomAttributes)\n",
    "        splitColumn, splitValue = determineBestSplit(data, potentialSplits, randomSplits)\n",
    "        dataBelow, dataAbove = splitData(data, splitColumn, splitValue)\n",
    "        if len(dataBelow) == 0 or len(dataAbove) == 0:\n",
    "            return classifyData(data)\n",
    "        else:\n",
    "            question = str(COLUMN_HEADERS[splitColumn]) + \" <= \" + str(splitValue)\n",
    "            decisionSubTree = {question: []}\n",
    "            yesAnswer = buildDecisionTree(dataBelow, currentDepth, minSampleSize, maxDepth, randomAttributes, randomSplits)\n",
    "            noAnswer = buildDecisionTree(dataAbove, currentDepth, minSampleSize, maxDepth, randomAttributes, randomSplits)\n",
    "            if yesAnswer == noAnswer:\n",
    "                decisionSubTree = yesAnswer\n",
    "            else:\n",
    "                decisionSubTree[question].append(yesAnswer)\n",
    "                decisionSubTree[question].append(noAnswer)\n",
    "            return decisionSubTree"
   ]
  },
  {
   "cell_type": "code",
   "execution_count": null,
   "id": "2fb6dc81",
   "metadata": {},
   "outputs": [],
   "source": [
    "def classifySample(sample, decisionTree):\n",
    "    if not isinstance(decisionTree, dict):\n",
    "        return decisionTree\n",
    "    question = list(decisionTree.keys())[0]\n",
    "    attribute, value = question.split(\" <= \")\n",
    "    if sample[attribute] <= float(value):\n",
    "        answer = decisionTree[question][0]\n",
    "    else:\n",
    "        answer = decisionTree[question][1]\n",
    "    return classifySample(sample, answer)\n"
   ]
  },
  {
   "cell_type": "code",
   "execution_count": null,
   "id": "9a6fdefb",
   "metadata": {},
   "outputs": [],
   "source": [
    "def decisionTreePredictions(dataFrame, decisionTree):\n",
    "    predictions = dataFrame.apply(classifySample, axis = 1, args = (decisionTree,))\n",
    "    return predictions"
   ]
  },
  {
   "cell_type": "code",
   "execution_count": null,
   "id": "af92a837",
   "metadata": {},
   "outputs": [],
   "source": [
    "def calculateAccuracy(predictedResults, category):\n",
    "    resultCorrect = predictedResults == category\n",
    "    return resultCorrect.mean()"
   ]
  }
 ],
 "metadata": {
  "kernelspec": {
   "display_name": ".venv",
   "language": "python",
   "name": "python3"
  },
  "language_info": {
   "codemirror_mode": {
    "name": "ipython",
    "version": 3
   },
   "file_extension": ".py",
   "mimetype": "text/x-python",
   "name": "python",
   "nbconvert_exporter": "python",
   "pygments_lexer": "ipython3",
   "version": "3.12.9"
  }
 },
 "nbformat": 4,
 "nbformat_minor": 5
}
